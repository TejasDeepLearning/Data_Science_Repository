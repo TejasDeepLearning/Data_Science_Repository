{
 "cells": [
  {
   "cell_type": "markdown",
   "metadata": {},
   "source": [
    "# App's profitable for the google play markets and App store"
   ]
  },
  {
   "cell_type": "markdown",
   "metadata": {},
   "source": [
    "This is a project that involves looking through apps in the google play market and the App store in Apple. We put oureselves in the role of a Data Analyst working in a company that develops apps that are free to download and install. We are tasked with finding what kind of apps have the most ratings and are generally well-liked by people and transfer that knowledge to the developers."
   ]
  },
  {
   "cell_type": "markdown",
   "metadata": {},
   "source": [
    "## Opening and Exploring the Data"
   ]
  },
  {
   "cell_type": "markdown",
   "metadata": {},
   "source": [
    "There are 2 million apps each for google play and the app store. Analysing all those apps will take years. Luckily we can sample out and extract two datasets which seem to provide the relevent information we can use to analyse the data belonging to each app on a small scale (about a few thousand values or so). "
   ]
  },
  {
   "cell_type": "markdown",
   "metadata": {},
   "source": [
    "We can download the csv files for the android and apple datasets here:\n",
    "\n",
    "[android dataset](https://www.kaggle.com/lava18/google-play-store-apps)\n",
    "\n",
    "[apple dataset](https://www.kaggle.com/ramamet4/app-store-apple-data-set-10k-apps)\n"
   ]
  },
  {
   "cell_type": "markdown",
   "metadata": {},
   "source": [
    "We start by opening and reading through both the apple store and google play store datasets"
   ]
  },
  {
   "cell_type": "code",
   "execution_count": 1,
   "metadata": {},
   "outputs": [],
   "source": [
    "from csv import reader\n",
    "\n",
    "# The ios dataset\n",
    "open_file = open('/Users/Tejas/csv_files/AppleStore.csv')\n",
    "read_file = reader(open_file)\n",
    "ios = list(read_file)\n",
    "ios_header = ios[0]\n",
    "ios = ios[1:]\n",
    "\n",
    "# The android dataset\n",
    "open_file = open('/Users/Tejas/csv_files/googleplaystore.csv')\n",
    "read_file = reader(open_file)\n",
    "android = list(read_file)\n",
    "android_header = android[0]\n",
    "android = android[1:]\n",
    "\n",
    "\n"
   ]
  },
  {
   "cell_type": "markdown",
   "metadata": {},
   "source": [
    "Next, we define a function that lets us explore through the data, figure out the shape of the data and what it contains. Our function takes in four parameters for slicing the data and for printing out the rows and columns to see the shape."
   ]
  },
  {
   "cell_type": "code",
   "execution_count": 2,
   "metadata": {},
   "outputs": [
    {
     "name": "stdout",
     "output_type": "stream",
     "text": [
      "['App', 'Category', 'Rating', 'Reviews', 'Size', 'Installs', 'Type', 'Price', 'Content Rating', 'Genres', 'Last Updated', 'Current Ver', 'Android Ver']\n",
      "\n",
      "\n",
      "['Photo Editor & Candy Camera & Grid & ScrapBook', 'ART_AND_DESIGN', '4.1', '159', '19M', '10,000+', 'Free', '0', 'Everyone', 'Art & Design', 'January 7, 2018', '1.0.0', '4.0.3 and up']\n",
      "\n",
      "\n",
      "['Coloring book moana', 'ART_AND_DESIGN', '3.9', '967', '14M', '500,000+', 'Free', '0', 'Everyone', 'Art & Design;Pretend Play', 'January 15, 2018', '2.0.0', '4.0.3 and up']\n",
      "\n",
      "\n",
      "Number of rows: 10841\n",
      "Number of columns: 13\n",
      "None\n",
      "\n",
      "\n",
      "['id', 'track_name', 'size_bytes', 'currency', 'price', 'rating_count_tot', 'rating_count_ver', 'user_rating', 'user_rating_ver', 'ver', 'cont_rating', 'prime_genre', 'sup_devices.num', 'ipadSc_urls.num', 'lang.num', 'vpp_lic']\n",
      "\n",
      "\n",
      "['284882215', 'Facebook', '389879808', 'USD', '0.0', '2974676', '212', '3.5', '3.5', '95.0', '4+', 'Social Networking', '37', '1', '29', '1']\n",
      "\n",
      "\n",
      "['389801252', 'Instagram', '113954816', 'USD', '0.0', '2161558', '1289', '4.5', '4.0', '10.23', '12+', 'Photo & Video', '37', '0', '29', '1']\n",
      "\n",
      "\n",
      "Number of rows: 7197\n",
      "Number of columns: 16\n",
      "None\n"
     ]
    }
   ],
   "source": [
    "def explore_data(dataset, start, end, row_and_column=False):\n",
    "    data_slice = dataset[start:end]\n",
    "    for row in data_slice:\n",
    "        print(row)\n",
    "        print('\\n')\n",
    "        \n",
    "    if row_and_column:\n",
    "        print('Number of rows:', len(dataset))\n",
    "        print('Number of columns:', len(dataset[0]))\n",
    "        \n",
    "        \n",
    "print(android_header)\n",
    "print('\\n')\n",
    "print(explore_data(android, 0, 2, True))\n",
    "print('\\n')\n",
    "print(ios_header)\n",
    "print('\\n')\n",
    "print(explore_data(ios, 0, 2, True))"
   ]
  },
  {
   "cell_type": "markdown",
   "metadata": {},
   "source": [
    "## Deleting Wrong Information"
   ]
  },
  {
   "cell_type": "markdown",
   "metadata": {},
   "source": [
    "The Google Play data set has a dedicated discussion section, and we can see that one of the discussions outlines an error for row 10472. Let's print this row and compare it against the header and another row that is correct.\n"
   ]
  },
  {
   "cell_type": "code",
   "execution_count": 3,
   "metadata": {},
   "outputs": [
    {
     "name": "stdout",
     "output_type": "stream",
     "text": [
      "['Life Made WI-Fi Touchscreen Photo Frame', '1.9', '19', '3.0M', '1,000+', 'Free', '0', 'Everyone', '', 'February 11, 2018', '1.0.19', '4.0 and up']\n",
      "\n",
      "\n",
      "['App', 'Category', 'Rating', 'Reviews', 'Size', 'Installs', 'Type', 'Price', 'Content Rating', 'Genres', 'Last Updated', 'Current Ver', 'Android Ver']\n",
      "\n",
      "\n",
      "['Paper flowers instructions', 'ART_AND_DESIGN', '4.4', '167', '5.6M', '50,000+', 'Free', '0', 'Everyone', 'Art & Design', 'March 26, 2017', '1.0', '2.3 and up']\n"
     ]
    }
   ],
   "source": [
    "print(android[10472]) # incorrect row\n",
    "print('\\n')\n",
    "print(android_header) # header for android dataset\n",
    "print('\\n')\n",
    "print(android[5]) # correct row"
   ]
  },
  {
   "cell_type": "markdown",
   "metadata": {},
   "source": [
    "We can see that the value for the category column is missing in row number 10472. We can remove this row for now, but know that there are other, better ways to correct missing data present in rows like these."
   ]
  },
  {
   "cell_type": "code",
   "execution_count": 4,
   "metadata": {},
   "outputs": [
    {
     "name": "stdout",
     "output_type": "stream",
     "text": [
      "10841\n",
      "10840\n"
     ]
    }
   ],
   "source": [
    "print(len(android)) # number of rows in the dataset before we removed the incorrect row\n",
    "del(android[10472])\n",
    "print(len(android)) # number of rows after"
   ]
  },
  {
   "cell_type": "markdown",
   "metadata": {},
   "source": [
    "## Removing Duplicate Entries"
   ]
  },
  {
   "cell_type": "markdown",
   "metadata": {},
   "source": [
    "### Part One"
   ]
  },
  {
   "cell_type": "markdown",
   "metadata": {},
   "source": [
    "We can see that the apps in the google play store have more than one entry."
   ]
  },
  {
   "cell_type": "code",
   "execution_count": 5,
   "metadata": {},
   "outputs": [
    {
     "name": "stdout",
     "output_type": "stream",
     "text": [
      "['Instagram', 'SOCIAL', '4.5', '66577313', 'Varies with device', '1,000,000,000+', 'Free', '0', 'Teen', 'Social', 'July 31, 2018', 'Varies with device', 'Varies with device']\n",
      "\n",
      "\n",
      "['Instagram', 'SOCIAL', '4.5', '66577446', 'Varies with device', '1,000,000,000+', 'Free', '0', 'Teen', 'Social', 'July 31, 2018', 'Varies with device', 'Varies with device']\n",
      "\n",
      "\n",
      "['Instagram', 'SOCIAL', '4.5', '66577313', 'Varies with device', '1,000,000,000+', 'Free', '0', 'Teen', 'Social', 'July 31, 2018', 'Varies with device', 'Varies with device']\n",
      "\n",
      "\n",
      "['Instagram', 'SOCIAL', '4.5', '66509917', 'Varies with device', '1,000,000,000+', 'Free', '0', 'Teen', 'Social', 'July 31, 2018', 'Varies with device', 'Varies with device']\n",
      "\n",
      "\n"
     ]
    }
   ],
   "source": [
    "for app in android:\n",
    "    name = app[0]\n",
    "    if name == 'Instagram':\n",
    "        print(app)  \n",
    "        print('\\n')"
   ]
  },
  {
   "cell_type": "markdown",
   "metadata": {},
   "source": [
    "Working with duplicate entries in data sets like these is usually deprecated. We need to find a way to remove all of the duplicate entries present in the datasets. Fortunately, we know of a method that can help us. \n",
    "\n",
    "We create two lists, one for the duplicates and one for the unique entries. We append the values corresponding to those lists respectively."
   ]
  },
  {
   "cell_type": "code",
   "execution_count": 6,
   "metadata": {},
   "outputs": [
    {
     "name": "stdout",
     "output_type": "stream",
     "text": [
      "Examples of duplicate entries: ['Quick PDF Scanner + OCR FREE', 'Box', 'Google My Business', 'ZOOM Cloud Meetings', 'join.me - Simple Meetings', 'Box', 'Zenefits', 'Google Ads', 'Google My Business', 'Slack', 'FreshBooks Classic', 'Insightly CRM', 'QuickBooks Accounting: Invoicing & Expenses', 'HipChat - Chat Built for Teams', 'Xero Accounting Software']\n",
      "\n",
      "\n",
      "Number of duplicate entries: 1181\n"
     ]
    }
   ],
   "source": [
    "duplicates = []\n",
    "uniques = []\n",
    "\n",
    "for app in android:\n",
    "    name = app[0]\n",
    "    if name in uniques:\n",
    "        duplicates.append(name)\n",
    "    else:\n",
    "        uniques.append(name)\n",
    "        \n",
    "print('Examples of duplicate entries:', duplicates[:15])\n",
    "print('\\n')\n",
    "print('Number of duplicate entries:', len(duplicates))\n",
    "        "
   ]
  },
  {
   "cell_type": "markdown",
   "metadata": {},
   "source": [
    "From this we can see that the total number of duplicate entries is `1181`. \n",
    "\n",
    "One way to remove rows like these would be to remove them randomly. But we can think of a better alternative :-\n",
    "\n",
    "We take a look at the reviews column present in the android data. The numbers represnt the number of ratings an app has received over a giver period of time. The higher the reviews, the higher the rating, and the more recently the data has been collected from that app. We can use this knowledge to filter out those rows with the highest number of reviews and only allow one entry per row to be taken in for analysis. \n",
    "\n",
    "This is how we do it:"
   ]
  },
  {
   "cell_type": "markdown",
   "metadata": {},
   "source": [
    "### Part Two"
   ]
  },
  {
   "cell_type": "markdown",
   "metadata": {},
   "source": [
    "Lets start by creating a dictionary called reviews_max. The keys will be the app names and the values will be the highest amount of reviews for that app. We only allow one entry per row."
   ]
  },
  {
   "cell_type": "code",
   "execution_count": 7,
   "metadata": {},
   "outputs": [],
   "source": [
    "reviews_max = {}\n",
    "\n",
    "for app in android:\n",
    "    name = app[0]\n",
    "    n_reviews = float(app[3])\n",
    "    \n",
    "    if name in reviews_max and reviews_max[name] < n_reviews:\n",
    "        reviews_max[name] = n_reviews\n",
    "    elif name not in reviews_max:\n",
    "        reviews_max[name] = n_reviews"
   ]
  },
  {
   "cell_type": "markdown",
   "metadata": {},
   "source": [
    "\n",
    "In the previous code cell, we found that there are 1,181 cases where an app occurs more than once, so the length of our dictionary (of unique apps) should be equal to the difference between the length of our data set and 1,181."
   ]
  },
  {
   "cell_type": "code",
   "execution_count": 8,
   "metadata": {},
   "outputs": [
    {
     "name": "stdout",
     "output_type": "stream",
     "text": [
      "9659\n",
      "9659\n"
     ]
    }
   ],
   "source": [
    "print(len(reviews_max) )\n",
    "print(len(android)- 1181)"
   ]
  },
  {
   "cell_type": "markdown",
   "metadata": {},
   "source": [
    "It seems that our expected and actual values match. Therfore we can proceed to the next step."
   ]
  },
  {
   "cell_type": "markdown",
   "metadata": {},
   "source": [
    "We first start by creating two lists : `android_clean` and `already_added`. We loop over the android dataset, isolating the name and the number of reviews of the app. \n",
    "\n",
    "We write a conditional statement inside the loop that specifies if the name is not in `already_added` and if there are no more than one entry of apps with the highest number of reviews present, then append the row(app) to the `android_clean` list and the name to the `already_added` list. \n",
    "\n",
    "For example, the app **\"Box\"** has three entries where the max number of reviews is the same. We can't have that present in our list, so we need to add that supplementary condition.\n"
   ]
  },
  {
   "cell_type": "code",
   "execution_count": 9,
   "metadata": {},
   "outputs": [],
   "source": [
    "android_clean = []\n",
    "already_added = []\n",
    "\n",
    "for app in android:\n",
    "    name = app[0]\n",
    "    n_reviews = float(app[3])\n",
    "    \n",
    "    if (reviews_max[name] == n_reviews ) and (name not in already_added):\n",
    "        android_clean.append(app)\n",
    "        already_added.append(name)\n"
   ]
  },
  {
   "cell_type": "markdown",
   "metadata": {},
   "source": [
    "Now lets explore our dataset and confirm that the number of rows is 9,659"
   ]
  },
  {
   "cell_type": "code",
   "execution_count": 10,
   "metadata": {},
   "outputs": [
    {
     "name": "stdout",
     "output_type": "stream",
     "text": [
      "['Photo Editor & Candy Camera & Grid & ScrapBook', 'ART_AND_DESIGN', '4.1', '159', '19M', '10,000+', 'Free', '0', 'Everyone', 'Art & Design', 'January 7, 2018', '1.0.0', '4.0.3 and up']\n",
      "\n",
      "\n",
      "['U Launcher Lite – FREE Live Cool Themes, Hide Apps', 'ART_AND_DESIGN', '4.7', '87510', '8.7M', '5,000,000+', 'Free', '0', 'Everyone', 'Art & Design', 'August 1, 2018', '1.2.4', '4.0.3 and up']\n",
      "\n",
      "\n",
      "Number of rows: 9659\n",
      "Number of columns: 13\n"
     ]
    }
   ],
   "source": [
    "explore_data(android_clean, 0, 2, True) # It is 9,659"
   ]
  },
  {
   "cell_type": "markdown",
   "metadata": {},
   "source": [
    "## Removing Non-English Apps\n",
    "\n",
    "### Part One"
   ]
  },
  {
   "cell_type": "markdown",
   "metadata": {},
   "source": [
    "In our dataset, there are entries that are written in non english text. We need to figure out a way to remove thos entries from our dataset. We start by defining a function which takes a string as a parameter and checks the ordinal value of the character present in that string. \n",
    "\n",
    "According to ASCII, the non english ordinal values are greater than 127. so we supply that condition into our function as follows:"
   ]
  },
  {
   "cell_type": "code",
   "execution_count": 11,
   "metadata": {},
   "outputs": [
    {
     "name": "stdout",
     "output_type": "stream",
     "text": [
      "True\n",
      "False\n",
      "False\n",
      "False\n"
     ]
    }
   ],
   "source": [
    "def is_english(a_string):\n",
    "    for char in a_string:\n",
    "        if ord(char) > 127:\n",
    "            return False\n",
    "    return True\n",
    "\n",
    "print(is_english('Instagram'))\n",
    "print(is_english('爱奇艺PPS -《欢乐颂2》电视剧热播'))\n",
    "print(is_english('Instachat 😂'))\n",
    "print(is_english('Docs To Go™ Free Office Suite'))"
   ]
  },
  {
   "cell_type": "markdown",
   "metadata": {},
   "source": [
    "### Part Two"
   ]
  },
  {
   "cell_type": "markdown",
   "metadata": {},
   "source": [
    "We can see that our function works for those strings that contain non english characters. But it also filters out characters like emojis and special characters like the trademark symbol. We need to make sure that those special characters are included in our string, because they belong to apps that include english names. We insert some conditions into our function as follows:"
   ]
  },
  {
   "cell_type": "code",
   "execution_count": 12,
   "metadata": {},
   "outputs": [
    {
     "name": "stdout",
     "output_type": "stream",
     "text": [
      "True\n",
      "True\n"
     ]
    }
   ],
   "source": [
    "def is_english(a_string):\n",
    "    non_ascii = 0\n",
    "    \n",
    "    for char in a_string:\n",
    "        if ord(char) > 127:\n",
    "            non_ascii += 1\n",
    "    \n",
    "    if non_ascii > 3:\n",
    "        return False\n",
    "    else:\n",
    "        return True\n",
    "\n",
    "print(is_english('Docs To Go™ Free Office Suite'))\n",
    "print(is_english('Instachat 😜'))\n",
    "            "
   ]
  },
  {
   "cell_type": "markdown",
   "metadata": {},
   "source": [
    "The function is not perfect, and we will learn better ways to filter out characters like these over time. But for now, this method will suffice."
   ]
  },
  {
   "cell_type": "code",
   "execution_count": 13,
   "metadata": {},
   "outputs": [],
   "source": [
    "android_english = []\n",
    "ios_english = []\n",
    "\n",
    "for app in android_clean:\n",
    "    name = app[0]\n",
    "    if is_english(name):\n",
    "        android_english.append(app)\n",
    "        \n",
    "for app in ios:\n",
    "    name = app[1]\n",
    "    if is_english(name):\n",
    "        ios_english.append(app)"
   ]
  },
  {
   "cell_type": "code",
   "execution_count": 14,
   "metadata": {},
   "outputs": [
    {
     "name": "stdout",
     "output_type": "stream",
     "text": [
      "['Photo Editor & Candy Camera & Grid & ScrapBook', 'ART_AND_DESIGN', '4.1', '159', '19M', '10,000+', 'Free', '0', 'Everyone', 'Art & Design', 'January 7, 2018', '1.0.0', '4.0.3 and up']\n",
      "\n",
      "\n",
      "['U Launcher Lite – FREE Live Cool Themes, Hide Apps', 'ART_AND_DESIGN', '4.7', '87510', '8.7M', '5,000,000+', 'Free', '0', 'Everyone', 'Art & Design', 'August 1, 2018', '1.2.4', '4.0.3 and up']\n",
      "\n",
      "\n",
      "['Sketch - Draw & Paint', 'ART_AND_DESIGN', '4.5', '215644', '25M', '50,000,000+', 'Free', '0', 'Teen', 'Art & Design', 'June 8, 2018', 'Varies with device', '4.2 and up']\n",
      "\n",
      "\n",
      "Number of rows: 9614\n",
      "Number of columns: 13\n"
     ]
    }
   ],
   "source": [
    "explore_data(android_english, 0, 3, True)"
   ]
  },
  {
   "cell_type": "code",
   "execution_count": 15,
   "metadata": {
    "scrolled": true
   },
   "outputs": [
    {
     "name": "stdout",
     "output_type": "stream",
     "text": [
      "['284882215', 'Facebook', '389879808', 'USD', '0.0', '2974676', '212', '3.5', '3.5', '95.0', '4+', 'Social Networking', '37', '1', '29', '1']\n",
      "\n",
      "\n",
      "['389801252', 'Instagram', '113954816', 'USD', '0.0', '2161558', '1289', '4.5', '4.0', '10.23', '12+', 'Photo & Video', '37', '0', '29', '1']\n",
      "\n",
      "\n",
      "['529479190', 'Clash of Clans', '116476928', 'USD', '0.0', '2130805', '579', '4.5', '4.5', '9.24.12', '9+', 'Games', '38', '5', '18', '1']\n",
      "\n",
      "\n",
      "Number of rows: 6183\n",
      "Number of columns: 16\n"
     ]
    }
   ],
   "source": [
    "explore_data(ios_english, 0, 3, True)"
   ]
  },
  {
   "cell_type": "markdown",
   "metadata": {},
   "source": [
    "Note that we are left with 10795 and 6183 rows for both datasets."
   ]
  },
  {
   "cell_type": "markdown",
   "metadata": {},
   "source": [
    "## Isolating the Free Apps\n",
    "\n",
    "As mentioned previously, our developers only build apps that are free to download and install. So we have to isolate the free, english apps that are present in our datasets. We do this by specifying the price column values in each dataset corresponds to either 0 or 0.0"
   ]
  },
  {
   "cell_type": "code",
   "execution_count": 16,
   "metadata": {},
   "outputs": [
    {
     "name": "stdout",
     "output_type": "stream",
     "text": [
      "8864\n",
      "3222\n"
     ]
    }
   ],
   "source": [
    "android_final = []\n",
    "ios_final = []\n",
    "\n",
    "for app in android_english:\n",
    "    price = app[7]\n",
    "    if price == '0':\n",
    "        android_final.append(app)\n",
    "        \n",
    "for app in ios_english:\n",
    "    price = app[4]\n",
    "    if price == '0.0':\n",
    "        ios_final.append(app)\n",
    "        \n",
    "        \n",
    "print(len(android_final))\n",
    "print(len(ios_final))"
   ]
  },
  {
   "cell_type": "markdown",
   "metadata": {},
   "source": [
    "We're left with 8864 Android apps and 3222 iOS apps, which should be enough for our analysis."
   ]
  },
  {
   "cell_type": "markdown",
   "metadata": {},
   "source": [
    "## Most Common Apps by Genre\n",
    "\n",
    "### Part one\n",
    "\n",
    "We mentioned earlier that our apps revenue is generated by the number of users that install and use our app, since our revenue mostly comes from in-game adds. Our strategy is comprised of three steps:\n",
    "\n",
    "1. Build a minimal version of the app and add it to the play store.\n",
    "2. If the app does well, improve it further.\n",
    "3. If there is a large number of sales and revenue generated from the app, then we make more money by adding it to the app store.\n",
    "\n",
    "Let's start by creating a frequency table for the prime_genre column in the android dataset, and the Genre and Category column in the ios dataset so we can see what kind of apps people like the most and how much revenue they generate."
   ]
  },
  {
   "cell_type": "markdown",
   "metadata": {},
   "source": [
    "### Part Two\n",
    "\n",
    "We'll build two functions we can use to analyze the frequency tables:\n",
    "\n",
    "One function to generate frequency tables that show percentages\n",
    "Another function that we can use to display the percentages in a descending order"
   ]
  },
  {
   "cell_type": "code",
   "execution_count": 17,
   "metadata": {},
   "outputs": [],
   "source": [
    "def freq_table(dataset, index):\n",
    "    total = 0\n",
    "    table = {}\n",
    "    \n",
    "    for row in dataset:\n",
    "        total += 1\n",
    "        value = row[index]\n",
    "        \n",
    "        if value in table:\n",
    "            table[value] += 1\n",
    "        else:\n",
    "            table[value] = 1\n",
    "            \n",
    "    table_percentages = {}\n",
    "    for key in table:\n",
    "        percentage = (total / table[key]) * 100\n",
    "        table_percentages[key] = percentage\n",
    "        \n",
    "    return table_percentages\n",
    "    "
   ]
  },
  {
   "cell_type": "code",
   "execution_count": 18,
   "metadata": {},
   "outputs": [],
   "source": [
    "def display_table(dataset, index):\n",
    "    table = freq_table(dataset, index)\n",
    "    table_list = []\n",
    "    \n",
    "    for key in table:\n",
    "        key_vals_as_tuples = (table[key], key)\n",
    "        table_list.append(key_vals_as_tuples)\n",
    "        \n",
    "    sorted_list = sorted(table_list, reverse=True)\n",
    "    for entry in sorted_list:\n",
    "        print(entry[1], ':', entry[0])\n",
    "    "
   ]
  },
  {
   "cell_type": "code",
   "execution_count": 19,
   "metadata": {},
   "outputs": [
    {
     "name": "stdout",
     "output_type": "stream",
     "text": [
      "['App', 'Category', 'Rating', 'Reviews', 'Size', 'Installs', 'Type', 'Price', 'Content Rating', 'Genres', 'Last Updated', 'Current Ver', 'Android Ver']\n",
      "['id', 'track_name', 'size_bytes', 'currency', 'price', 'rating_count_tot', 'rating_count_ver', 'user_rating', 'user_rating_ver', 'ver', 'cont_rating', 'prime_genre', 'sup_devices.num', 'ipadSc_urls.num', 'lang.num', 'vpp_lic']\n"
     ]
    }
   ],
   "source": [
    "print(android_header)\n",
    "print(ios_header)"
   ]
  },
  {
   "cell_type": "code",
   "execution_count": 20,
   "metadata": {
    "scrolled": false
   },
   "outputs": [
    {
     "name": "stdout",
     "output_type": "stream",
     "text": [
      "BEAUTY : 16724.528301886792\n",
      "COMICS : 16116.363636363636\n",
      "ART_AND_DESIGN : 15550.877192982454\n",
      "PARENTING : 15282.758620689654\n",
      "EVENTS : 14069.84126984127\n",
      "WEATHER : 12484.507042253521\n",
      "HOUSE_AND_HOME : 12142.465753424658\n",
      "AUTO_AND_VEHICLES : 10809.756097560976\n",
      "LIBRARIES_AND_DEMO : 10679.518072289156\n",
      "ENTERTAINMENT : 10428.235294117647\n",
      "EDUCATION : 8605.825242718447\n",
      "FOOD_AND_DRINK : 8058.181818181818\n",
      "MAPS_AND_NAVIGATION : 7148.387096774193\n",
      "VIDEO_PLAYERS : 5574.842767295598\n",
      "DATING : 5372.121212121212\n",
      "BOOKS_AND_REFERENCE : 4665.263157894738\n",
      "SHOPPING : 4454.271356783919\n",
      "TRAVEL_AND_LOCAL : 4282.125603864734\n",
      "SOCIAL : 3755.9322033898306\n",
      "NEWS_AND_MAGAZINES : 3574.1935483870966\n",
      "PHOTOGRAPHY : 3396.168582375479\n",
      "HEALTH_AND_FITNESS : 3246.8864468864467\n",
      "COMMUNICATION : 3088.501742160279\n",
      "PERSONALIZATION : 3014.965986394558\n",
      "SPORTS : 2944.8504983388707\n",
      "MEDICAL : 2831.9488817891374\n",
      "FINANCE : 2702.439024390244\n",
      "PRODUCTIVITY : 2569.2753623188405\n",
      "LIFESTYLE : 2561.849710982659\n",
      "BUSINESS : 2177.886977886978\n",
      "TOOLS : 1181.8666666666668\n",
      "GAME : 1028.30626450116\n",
      "FAMILY : 528.8782816229117\n"
     ]
    }
   ],
   "source": [
    "display_table(android_final, 1) # display table for the Category column"
   ]
  },
  {
   "cell_type": "code",
   "execution_count": 21,
   "metadata": {},
   "outputs": [
    {
     "name": "stdout",
     "output_type": "stream",
     "text": [
      "Catalogs : 80550.0\n",
      "Navigation : 53700.0\n",
      "Medical : 53700.0\n",
      "Book : 23014.285714285714\n",
      "Business : 18952.941176470587\n",
      "Reference : 17900.0\n",
      "Food & Drink : 12392.307692307691\n",
      "Weather : 11507.142857142857\n",
      "Finance : 8950.0\n",
      "Travel : 8055.0\n",
      "News : 7493.023255813953\n",
      "Lifestyle : 6317.64705882353\n",
      "Productivity : 5753.571428571428\n",
      "Health & Fitness : 4956.923076923077\n",
      "Music : 4881.818181818182\n",
      "Sports : 4669.565217391305\n",
      "Utilities : 3977.777777777778\n",
      "Shopping : 3835.7142857142853\n",
      "Social Networking : 3039.622641509434\n",
      "Education : 2730.5084745762715\n",
      "Photo & Video : 2013.75\n",
      "Entertainment : 1268.5039370078741\n",
      "Games : 171.93169690501603\n"
     ]
    }
   ],
   "source": [
    "display_table(ios_final, -5) # display table for the prime_genre column"
   ]
  },
  {
   "cell_type": "code",
   "execution_count": 22,
   "metadata": {
    "scrolled": false
   },
   "outputs": [
    {
     "name": "stdout",
     "output_type": "stream",
     "text": [
      "Video Players & Editors;Creativity : 886400.0\n",
      "Trivia;Education : 886400.0\n",
      "Travel & Local;Action & Adventure : 886400.0\n",
      "Tools;Education : 886400.0\n",
      "Strategy;Education : 886400.0\n",
      "Strategy;Creativity : 886400.0\n",
      "Strategy;Action & Adventure : 886400.0\n",
      "Simulation;Education : 886400.0\n",
      "Role Playing;Brain Games : 886400.0\n",
      "Racing;Pretend Play : 886400.0\n",
      "Puzzle;Education : 886400.0\n",
      "Parenting;Brain Games : 886400.0\n",
      "Music & Audio;Music & Video : 886400.0\n",
      "Lifestyle;Pretend Play : 886400.0\n",
      "Lifestyle;Education : 886400.0\n",
      "Health & Fitness;Education : 886400.0\n",
      "Health & Fitness;Action & Adventure : 886400.0\n",
      "Entertainment;Education : 886400.0\n",
      "Communication;Creativity : 886400.0\n",
      "Comics;Creativity : 886400.0\n",
      "Casual;Music & Video : 886400.0\n",
      "Card;Action & Adventure : 886400.0\n",
      "Books & Reference;Education : 886400.0\n",
      "Art & Design;Pretend Play : 886400.0\n",
      "Art & Design;Action & Adventure : 886400.0\n",
      "Arcade;Pretend Play : 886400.0\n",
      "Adventure;Education : 886400.0\n",
      "Video Players & Editors;Music & Video : 443200.0\n",
      "Sports;Action & Adventure : 443200.0\n",
      "Simulation;Pretend Play : 443200.0\n",
      "Puzzle;Creativity : 443200.0\n",
      "Music;Music & Video : 443200.0\n",
      "Entertainment;Pretend Play : 443200.0\n",
      "Casual;Education : 443200.0\n",
      "Board;Action & Adventure : 443200.0\n",
      "Role Playing;Action & Adventure : 295466.6666666666\n",
      "Puzzle;Action & Adventure : 295466.6666666666\n",
      "Entertainment;Creativity : 295466.6666666666\n",
      "Entertainment;Action & Adventure : 295466.6666666666\n",
      "Educational;Creativity : 295466.6666666666\n",
      "Educational;Action & Adventure : 295466.6666666666\n",
      "Education;Music & Video : 295466.6666666666\n",
      "Education;Brain Games : 295466.6666666666\n",
      "Education;Action & Adventure : 295466.6666666666\n",
      "Adventure;Action & Adventure : 295466.6666666666\n",
      "Role Playing;Pretend Play : 221600.0\n",
      "Education;Creativity : 221600.0\n",
      "Education;Pretend Play : 177280.0\n",
      "Parenting;Music & Video : 147733.3333333333\n",
      "Educational;Brain Games : 147733.3333333333\n",
      "Casual;Creativity : 147733.3333333333\n",
      "Art & Design;Creativity : 147733.3333333333\n",
      "Simulation;Action & Adventure : 126628.57142857142\n",
      "Parenting;Education : 126628.57142857142\n",
      "Entertainment;Brain Games : 126628.57142857142\n",
      "Board;Brain Games : 126628.57142857142\n",
      "Educational;Pretend Play : 110800.0\n",
      "Action;Action & Adventure : 98488.88888888889\n",
      "Arcade;Action & Adventure : 80581.81818181819\n",
      "Casual;Brain Games : 73866.66666666666\n",
      "Casual;Action & Adventure : 73866.66666666666\n",
      "Racing;Action & Adventure : 59093.33333333333\n",
      "Puzzle;Brain Games : 59093.33333333333\n",
      "Entertainment;Music & Video : 59093.33333333333\n",
      "Music : 49244.444444444445\n",
      "Casual;Pretend Play : 42209.52380952381\n",
      "Word : 38539.13043478261\n",
      "Education;Education : 29546.666666666664\n",
      "Educational : 26860.606060606064\n",
      "Board : 26070.588235294115\n",
      "Educational;Education : 25325.714285714286\n",
      "Trivia : 23956.756756756757\n",
      "Casino : 23326.315789473683\n",
      "Card : 22160.0\n",
      "Parenting : 20145.454545454548\n",
      "Beauty : 16724.528301886792\n",
      "Art & Design : 16724.528301886792\n",
      "Comics : 16414.814814814814\n",
      "Adventure : 14773.333333333332\n",
      "Events : 14069.84126984127\n",
      "Weather : 12484.507042253521\n",
      "House & Home : 12142.465753424658\n",
      "Strategy : 10943.20987654321\n",
      "Auto & Vehicles : 10809.756097560976\n",
      "Role Playing : 10679.518072289156\n",
      "Libraries & Demo : 10679.518072289156\n",
      "Racing : 10072.727272727274\n",
      "Puzzle : 8864.0\n",
      "Food & Drink : 8058.181818181818\n",
      "Maps & Navigation : 7148.387096774193\n",
      "Casual : 5682.051282051281\n",
      "Video Players & Editors : 5645.859872611465\n",
      "Arcade : 5404.878048780488\n",
      "Dating : 5372.121212121212\n",
      "Simulation : 4897.237569060773\n",
      "Books & Reference : 4665.263157894738\n",
      "Shopping : 4454.271356783919\n",
      "Travel & Local : 4302.9126213592235\n",
      "Social : 3755.9322033898306\n",
      "News & Magazines : 3574.1935483870966\n",
      "Photography : 3396.168582375479\n",
      "Health & Fitness : 3246.8864468864467\n",
      "Action : 3223.2727272727275\n",
      "Communication : 3088.501742160279\n",
      "Personalization : 3014.965986394558\n",
      "Sports : 2887.2964169381107\n",
      "Medical : 2831.9488817891374\n",
      "Finance : 2702.439024390244\n",
      "Productivity : 2569.2753623188405\n",
      "Lifestyle : 2569.2753623188405\n",
      "Business : 2177.886977886978\n",
      "Education : 1870.042194092827\n",
      "Entertainment : 1647.5836431226767\n",
      "Tools : 1183.444592790387\n"
     ]
    }
   ],
   "source": [
    "display_table(android_final, -4) # display table for the genre column"
   ]
  },
  {
   "cell_type": "markdown",
   "metadata": {},
   "source": [
    "## Most Popular Apps by Genre on the App Store"
   ]
  },
  {
   "cell_type": "markdown",
   "metadata": {},
   "source": [
    "We use our frequency table function to generate a table for the genres column in the ios dataset. We use a nested for loop to iterate over the genres column and find the average number of ratings that column has, to find out which of those apps are the most popular."
   ]
  },
  {
   "cell_type": "code",
   "execution_count": 23,
   "metadata": {},
   "outputs": [
    {
     "name": "stdout",
     "output_type": "stream",
     "text": [
      "Social Networking : 71548.34905660378\n",
      "Photo & Video : 28441.54375\n",
      "Games : 22788.6696905016\n",
      "Music : 57326.530303030304\n",
      "Reference : 74942.11111111111\n",
      "Health & Fitness : 23298.015384615384\n",
      "Weather : 52279.892857142855\n",
      "Utilities : 18684.456790123455\n",
      "Travel : 28243.8\n",
      "Shopping : 26919.690476190477\n",
      "News : 21248.023255813954\n",
      "Navigation : 86090.33333333333\n",
      "Lifestyle : 16485.764705882353\n",
      "Entertainment : 14029.830708661417\n",
      "Food & Drink : 33333.92307692308\n",
      "Sports : 23008.898550724636\n",
      "Book : 39758.5\n",
      "Finance : 31467.944444444445\n",
      "Education : 7003.983050847458\n",
      "Productivity : 21028.410714285714\n",
      "Business : 7491.117647058823\n",
      "Catalogs : 4004.0\n",
      "Medical : 612.0\n"
     ]
    }
   ],
   "source": [
    "genres_ios = freq_table(ios_final, -5)\n",
    "\n",
    "for genre in genres_ios:\n",
    "    total = 0\n",
    "    length = 0\n",
    "    \n",
    "    for app in ios_final:\n",
    "        genres_app = app[-5]\n",
    "        \n",
    "        if genres_app == genre:\n",
    "            n_rating = float(app[5])\n",
    "            total += n_rating\n",
    "            length += 1\n",
    "    \n",
    "    avg_ratings = total / length\n",
    "\n",
    "    print(genre, ':', avg_ratings)\n",
    "            "
   ]
  },
  {
   "cell_type": "markdown",
   "metadata": {},
   "source": [
    "## Most Popular Apps by Category on the Google Play Market\n",
    "\n",
    "We follow the same principle we used while looping over the genres column in the app store dataset."
   ]
  },
  {
   "cell_type": "code",
   "execution_count": 24,
   "metadata": {
    "scrolled": false
   },
   "outputs": [
    {
     "name": "stdout",
     "output_type": "stream",
     "text": [
      "ART_AND_DESIGN : 1986335.0877192982\n",
      "AUTO_AND_VEHICLES : 647317.8170731707\n",
      "BEAUTY : 513151.88679245283\n",
      "BOOKS_AND_REFERENCE : 8767811.894736841\n",
      "BUSINESS : 1712290.1474201474\n",
      "COMICS : 817657.2727272727\n",
      "COMMUNICATION : 38456119.167247385\n",
      "DATING : 854028.8303030303\n",
      "EDUCATION : 1833495.145631068\n",
      "ENTERTAINMENT : 11640705.88235294\n",
      "EVENTS : 253542.22222222222\n",
      "FINANCE : 1387692.475609756\n",
      "FOOD_AND_DRINK : 1924897.7363636363\n",
      "HEALTH_AND_FITNESS : 4188821.9853479853\n",
      "HOUSE_AND_HOME : 1331540.5616438356\n",
      "LIBRARIES_AND_DEMO : 638503.734939759\n",
      "LIFESTYLE : 1437816.2687861272\n",
      "GAME : 15588015.603248259\n",
      "FAMILY : 3695641.8198090694\n",
      "MEDICAL : 120550.61980830671\n",
      "SOCIAL : 23253652.127118643\n",
      "SHOPPING : 7036877.311557789\n",
      "PHOTOGRAPHY : 17840110.40229885\n",
      "SPORTS : 3638640.1428571427\n",
      "TRAVEL_AND_LOCAL : 13984077.710144928\n",
      "TOOLS : 10801391.298666667\n",
      "PERSONALIZATION : 5201482.6122448975\n",
      "PRODUCTIVITY : 16787331.344927534\n",
      "PARENTING : 542603.6206896552\n",
      "WEATHER : 5074486.197183099\n",
      "VIDEO_PLAYERS : 24727872.452830188\n",
      "NEWS_AND_MAGAZINES : 9549178.467741935\n",
      "MAPS_AND_NAVIGATION : 4056941.7741935486\n"
     ]
    }
   ],
   "source": [
    "categories_android = freq_table(android_final, 1)\n",
    "\n",
    "for category in categories_android:\n",
    "    total = 0\n",
    "    len_category = 0\n",
    "    for app in android_final:\n",
    "        category_app = app[1]\n",
    "        if category_app == category:            \n",
    "            n_installs = app[5]\n",
    "            n_installs = n_installs.replace(',', '')\n",
    "            n_installs = n_installs.replace('+', '')\n",
    "            total += float(n_installs)\n",
    "            len_category += 1\n",
    "    avg_n_installs = total / len_category\n",
    "    print(category, ':', avg_n_installs)"
   ]
  },
  {
   "cell_type": "markdown",
   "metadata": {},
   "source": [
    "## Conclusion\n",
    "\n",
    "From this knowledge, we can find out what kinds of apps available on both platforms are the most popular by the average amount of ratings they have and how we can pass this knowledge onto the developers to create apps like these to boost sales."
   ]
  },
  {
   "cell_type": "markdown",
   "metadata": {},
   "source": [
    "Thank you for reading."
   ]
  }
 ],
 "metadata": {
  "kernelspec": {
   "display_name": "Python 3",
   "language": "python",
   "name": "python3"
  },
  "language_info": {
   "codemirror_mode": {
    "name": "ipython",
    "version": 3
   },
   "file_extension": ".py",
   "mimetype": "text/x-python",
   "name": "python",
   "nbconvert_exporter": "python",
   "pygments_lexer": "ipython3",
   "version": "3.8.3"
  }
 },
 "nbformat": 4,
 "nbformat_minor": 4
}
